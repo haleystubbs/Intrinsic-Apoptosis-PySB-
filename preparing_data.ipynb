{
 "cells": [
  {
   "cell_type": "code",
   "execution_count": 8,
   "metadata": {},
   "outputs": [],
   "source": [
    "import pandas as pd"
   ]
  },
  {
   "cell_type": "code",
   "execution_count": 9,
   "metadata": {},
   "outputs": [],
   "source": [
    "# load the data\n",
    "df = pd.read_csv('norris_et_al_2017_cisplatin_exp_data.csv.gz',\n",
    "                 low_memory=False)"
   ]
  },
  {
   "cell_type": "code",
   "execution_count": 10,
   "metadata": {},
   "outputs": [],
   "source": [
    "# get only the protein columns (assuming model only has proteins)\n",
    "genes = df[df['species_type'] == 'protein'].copy()\n"
   ]
  },
  {
   "cell_type": "code",
   "execution_count": 11,
   "metadata": {},
   "outputs": [],
   "source": [
    "# Create a list of genes to have in model\n",
    "# This uses HGNC naming standard. \n",
    "# youll have to pass the right names from the model\n",
    "genes_to_include = ['TP53', 'BBC3', 'BAX', 'BAK1', 'MDM2', 'BCL2L11', 'APAF1']\n",
    "\n",
    "# Filter to get only these genes\n",
    "select_genes = genes[genes['gene'].isin(genes_to_include)].copy()\n"
   ]
  },
  {
   "cell_type": "code",
   "execution_count": 12,
   "metadata": {},
   "outputs": [
    {
     "name": "stdout",
     "output_type": "stream",
     "text": [
      "      APAF1_rnaseq  BAK1_rnaseq  BAX_(ox)_38_57_phsilac  \\\n",
      "time                                                      \n",
      "01hr     -1.290585     1.000404                     NaN   \n",
      "06hr     -1.360740     1.344035                     NaN   \n",
      "24hr      2.639418     4.275343                     NaN   \n",
      "48hr           NaN          NaN                  1.3833   \n",
      "\n",
      "      BAX_(ox)_38_58_phsilac  BAX_22_34_phsilac  BAX_N-term M(ace)1_lf  \\\n",
      "time                                                                     \n",
      "01hr                     NaN                NaN                    NaN   \n",
      "06hr                     NaN                NaN                   1.09   \n",
      "24hr                     NaN                NaN                    NaN   \n",
      "48hr                   1.322          -1.274372                    NaN   \n",
      "\n",
      "      BAX_lf  BAX_rnaseq  BAX_silac  BBC3_rnaseq  BCL2L11_S(ph)109_phsilac  \\\n",
      "time                                                                         \n",
      "01hr   -0.01    1.022159  -1.049432     1.038175                       NaN   \n",
      "06hr   -1.03    1.226903   1.083368     2.273287                   -8.9598   \n",
      "24hr   -1.18    1.921037   1.133510     8.756110                       NaN   \n",
      "48hr   -1.31         NaN  -1.149695          NaN                       NaN   \n",
      "\n",
      "      BCL2L11_rnaseq  MDM2_rnaseq  TP53_S(ph)313_phsilac  \\\n",
      "time                                                       \n",
      "01hr        1.097051    -1.007003                    NaN   \n",
      "06hr        1.283962     1.397059               4.337450   \n",
      "24hr        2.653470     2.701705              11.911994   \n",
      "48hr             NaN          NaN               6.074965   \n",
      "\n",
      "      TP53_S(ph)392_phsilac  TP53_rnaseq  TP53_silac  \n",
      "time                                                  \n",
      "01hr                    NaN    -1.099477         NaN  \n",
      "06hr                    NaN     1.289942         NaN  \n",
      "24hr                7.37830     1.582521      8.7825  \n",
      "48hr                4.31349          NaN         NaN  \n"
     ]
    }
   ],
   "source": [
    "# pivot tables to get into format where columns is the protein, rows are time points\n",
    "pivoted = pd.pivot_table(select_genes, \n",
    "                         index ='time',\n",
    "                         columns='protein', \n",
    "                         values='treated_control_fold_change')\n",
    "\n",
    "# drop index\n",
    "pivoted.reset_index(inplace=True)\n",
    "del pivoted.columns.name\n",
    "pivoted.set_index('time', inplace=True)\n",
    "print(pivoted)\n",
    "\n",
    "# note that there are multiple measurement types\n",
    "# Phosphylation, rnaseq (rna level), silac and label-free(protein level)\n",
    "# Decide based on model"
   ]
  },
  {
   "cell_type": "code",
   "execution_count": 25,
   "metadata": {},
   "outputs": [],
   "source": [
    "# Rename the columns to match the PySB model\n",
    "\n",
    "exp_data = pivoted.rename(\n",
    "    columns={'TP53_S(ph)313_phsilac':'obs1'}\n",
    ")\n",
    "\n",
    "\n",
    "# Have to think of what to fill these with!\n",
    "exp_data.fillna(1, inplace=True)"
   ]
  },
  {
   "cell_type": "code",
   "execution_count": 26,
   "metadata": {},
   "outputs": [
    {
     "name": "stdout",
     "output_type": "stream",
     "text": [
      "      APAF1_rnaseq  BAK1_rnaseq  BAX_(ox)_38_57_phsilac  \\\n",
      "time                                                      \n",
      "01hr     -1.290585     1.000404                  1.0000   \n",
      "06hr     -1.360740     1.344035                  1.0000   \n",
      "24hr      2.639418     4.275343                  1.0000   \n",
      "48hr      1.000000     1.000000                  1.3833   \n",
      "\n",
      "      BAX_(ox)_38_58_phsilac  BAX_22_34_phsilac  BAX_N-term M(ace)1_lf  \\\n",
      "time                                                                     \n",
      "01hr                   1.000           1.000000                   1.00   \n",
      "06hr                   1.000           1.000000                   1.09   \n",
      "24hr                   1.000           1.000000                   1.00   \n",
      "48hr                   1.322          -1.274372                   1.00   \n",
      "\n",
      "      BAX_lf  BAX_rnaseq  BAX_silac  BBC3_rnaseq  BCL2L11_S(ph)109_phsilac  \\\n",
      "time                                                                         \n",
      "01hr   -0.01    1.022159  -1.049432     1.038175                    1.0000   \n",
      "06hr   -1.03    1.226903   1.083368     2.273287                   -8.9598   \n",
      "24hr   -1.18    1.921037   1.133510     8.756110                    1.0000   \n",
      "48hr   -1.31    1.000000  -1.149695     1.000000                    1.0000   \n",
      "\n",
      "      BCL2L11_rnaseq  MDM2_rnaseq  TP53_S(ph)313_phsilac  \\\n",
      "time                                                       \n",
      "01hr        1.097051    -1.007003               1.000000   \n",
      "06hr        1.283962     1.397059               4.337450   \n",
      "24hr        2.653470     2.701705              11.911994   \n",
      "48hr        1.000000     1.000000               6.074965   \n",
      "\n",
      "      TP53_S(ph)392_phsilac  TP53_rnaseq  TP53_silac  Obs_p53A  \n",
      "time                                                            \n",
      "01hr                1.00000    -1.099477      1.0000  1.000000  \n",
      "06hr                1.00000     1.289942      1.0000  2.668725  \n",
      "24hr                7.37830     1.582521      8.7825  9.645147  \n",
      "48hr                4.31349     1.000000      1.0000  5.194227  \n"
     ]
    }
   ],
   "source": [
    "# create a new column with the phospho silac data averaged to be the active p53 concentration\n",
    "\n",
    "exp_data['Obs_p53A'] = (exp_data['TP53_S(ph)392_phsilac'] + exp_data['TP53_S(ph)313_phsilac'])/2\n",
    "\n",
    "print(exp_data)\n"
   ]
  },
  {
   "cell_type": "code",
   "execution_count": null,
   "metadata": {},
   "outputs": [],
   "source": [
    "# rename the indices so that the names math the observables in the model\n",
    "\n",
    "exp_data = pivoted.rename(\n",
    "    index ={'Obs_p53A':'Obs_p53A'}\n",
    ")\n",
    "\n",
    "exp_data = pivoted.rename(\n",
    "    index ={'MDM2_rnaseq':'Obs_mdm2'}\n",
    ")\n",
    "\n",
    "exp_data = pivoted.rename(\n",
    "    index ={'BBC3_rnaseq':'Obs_Puma'}\n",
    ")"
   ]
  },
  {
   "cell_type": "code",
   "execution_count": 20,
   "metadata": {},
   "outputs": [],
   "source": [
    "def cost_function(trajectory):\n",
    "    # can use any distance metric\n",
    "    error1 = ((exp_data['obs1'] - trajectory['obs1'])**2).sum()\n",
    "    \n",
    "    # if there is more than one observable, you just repeat\n",
    "    # error2 = ((exp_data['obs2'] - trajectory['obs2'])**2).sum()\n",
    "    # return = error1 + error2\n",
    "    return error1,"
   ]
  },
  {
   "cell_type": "code",
   "execution_count": 8,
   "metadata": {},
   "outputs": [
    {
     "name": "stdout",
     "output_type": "stream",
     "text": [
      "      obs1\n",
      "time      \n",
      "01hr     1\n",
      "06hr     2\n",
      "24hr     3\n",
      "48hr     4\n"
     ]
    }
   ],
   "source": [
    "# demo data\n",
    "# Dont need to worry about this, i just had to make data.\n",
    "# this will be replaced with the simulation result from pysb.\n",
    "\n",
    "\n",
    "x = [1, 2, 3, 4]\n",
    "time = ['01hr', '06hr', '24hr', '48hr']\n",
    "combines = [(i,j) for i,j in zip(time, x)]\n",
    "\n",
    "traj = pd.DataFrame(combines, columns=['time', 'obs1'])\n",
    "traj.set_index('time', inplace=True)\n",
    "\n",
    "print(traj)"
   ]
  },
  {
   "cell_type": "code",
   "execution_count": 9,
   "metadata": {},
   "outputs": [
    {
     "name": "stdout",
     "output_type": "stream",
     "text": [
      "(90.1927929272021,)\n"
     ]
    }
   ],
   "source": [
    "print(cost_function(traj))"
   ]
  },
  {
   "cell_type": "code",
   "execution_count": 10,
   "metadata": {},
   "outputs": [],
   "source": [
    "exp_data.to_csv('experimental_data.csv')"
   ]
  },
  {
   "cell_type": "code",
   "execution_count": null,
   "metadata": {},
   "outputs": [],
   "source": []
  }
 ],
 "metadata": {
  "kernelspec": {
   "display_name": "Python 3",
   "language": "python",
   "name": "python3"
  },
  "language_info": {
   "codemirror_mode": {
    "name": "ipython",
    "version": 3
   },
   "file_extension": ".py",
   "mimetype": "text/x-python",
   "name": "python",
   "nbconvert_exporter": "python",
   "pygments_lexer": "ipython3",
   "version": "3.6.4"
  }
 },
 "nbformat": 4,
 "nbformat_minor": 2
}
