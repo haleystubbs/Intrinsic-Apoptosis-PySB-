{
 "cells": [
  {
   "cell_type": "code",
   "execution_count": 1,
   "metadata": {},
   "outputs": [],
   "source": [
    "import pandas as pd"
   ]
  },
  {
   "cell_type": "code",
   "execution_count": 2,
   "metadata": {},
   "outputs": [],
   "source": [
    "# load the data\n",
    "df = pd.read_csv('norris_et_al_2017_cisplatin_exp_data.csv.gz',\n",
    "                 low_memory=False)"
   ]
  },
  {
   "cell_type": "code",
   "execution_count": 3,
   "metadata": {},
   "outputs": [],
   "source": [
    "# get only the protein columns (assuming model only has proteins)\n",
    "genes = df[df['species_type'] == 'protein'].copy()\n"
   ]
  },
  {
   "cell_type": "code",
   "execution_count": 4,
   "metadata": {},
   "outputs": [],
   "source": [
    "# Create a list of genes to have in model\n",
    "# This uses HGNC naming standard. \n",
    "# youll have to pass the right names from the model\n",
    "genes_to_include = ['TP53']\n",
    "\n",
    "# Filter to get only these genes\n",
    "select_genes = genes[genes['gene'].isin(genes_to_include)].copy()\n"
   ]
  },
  {
   "cell_type": "code",
   "execution_count": 5,
   "metadata": {},
   "outputs": [
    {
     "name": "stdout",
     "output_type": "stream",
     "text": [
      "      TP53_S(ph)313_phsilac  TP53_S(ph)392_phsilac  TP53_rnaseq  TP53_silac\n",
      "time                                                                       \n",
      "01hr                    NaN                    NaN    -1.099477         NaN\n",
      "06hr               4.337450                    NaN     1.289942         NaN\n",
      "24hr              11.911994                7.37830     1.582521      8.7825\n",
      "48hr               6.074965                4.31349          NaN         NaN\n"
     ]
    }
   ],
   "source": [
    "# pivot tables to get into format where columns is the protein, rows are time points\n",
    "pivoted = pd.pivot_table(select_genes, \n",
    "                         index ='time',\n",
    "                         columns='protein', \n",
    "                         values='treated_control_fold_change')\n",
    "\n",
    "# drop index\n",
    "pivoted.reset_index(inplace=True)\n",
    "del pivoted.columns.name\n",
    "pivoted.set_index('time', inplace=True)\n",
    "print(pivoted)\n",
    "\n",
    "# note that there are multiple measurement types\n",
    "# Phosphylation, rnaseq (rna level), silac and label-free(protein level)\n",
    "# Decide based on model"
   ]
  },
  {
   "cell_type": "code",
   "execution_count": 6,
   "metadata": {},
   "outputs": [],
   "source": [
    "# Rename the columns to match the PySB model\n",
    "\n",
    "exp_data = pivoted.rename(\n",
    "    columns={'TP53_S(ph)313_phsilac':'obs1'}\n",
    ")\n",
    "\n",
    "\n",
    "# Have to think of what to fill these with!\n",
    "exp_data.fillna(0, inplace=True)"
   ]
  },
  {
   "cell_type": "code",
   "execution_count": 7,
   "metadata": {},
   "outputs": [],
   "source": [
    "def cost_function(trajectory):\n",
    "    # can use any distance metric\n",
    "    error1 = ((exp_data['obs1'] - trajectory['obs1'])**2).sum()\n",
    "    \n",
    "    # if there is more than one observable, you just repeat\n",
    "    # error2 = ((exp_data['obs2'] - trajectory['obs2'])**2).sum()\n",
    "    # return = error1 + error2\n",
    "    return error1,"
   ]
  },
  {
   "cell_type": "code",
   "execution_count": 8,
   "metadata": {},
   "outputs": [
    {
     "name": "stdout",
     "output_type": "stream",
     "text": [
      "      obs1\n",
      "time      \n",
      "01hr     1\n",
      "06hr     2\n",
      "24hr     3\n",
      "48hr     4\n"
     ]
    }
   ],
   "source": [
    "# demo data\n",
    "# Dont need to worry about this, i just had to make data.\n",
    "# this will be replaced with the simulation result from pysb.\n",
    "\n",
    "\n",
    "x = [1, 2, 3, 4]\n",
    "time = ['01hr', '06hr', '24hr', '48hr']\n",
    "combines = [(i,j) for i,j in zip(time, x)]\n",
    "\n",
    "traj = pd.DataFrame(combines, columns=['time', 'obs1'])\n",
    "traj.set_index('time', inplace=True)\n",
    "\n",
    "print(traj)"
   ]
  },
  {
   "cell_type": "code",
   "execution_count": 9,
   "metadata": {},
   "outputs": [
    {
     "name": "stdout",
     "output_type": "stream",
     "text": [
      "(90.1927929272021,)\n"
     ]
    }
   ],
   "source": [
    "print(cost_function(traj))"
   ]
  },
  {
   "cell_type": "code",
   "execution_count": 10,
   "metadata": {},
   "outputs": [],
   "source": [
    "exp_data.to_csv('experimental_data.csv')"
   ]
  },
  {
   "cell_type": "code",
   "execution_count": null,
   "metadata": {},
   "outputs": [],
   "source": []
  }
 ],
 "metadata": {
  "kernelspec": {
   "display_name": "Python 3",
   "language": "python",
   "name": "python3"
  },
  "language_info": {
   "codemirror_mode": {
    "name": "ipython",
    "version": 3
   },
   "file_extension": ".py",
   "mimetype": "text/x-python",
   "name": "python",
   "nbconvert_exporter": "python",
   "pygments_lexer": "ipython3",
   "version": "3.6.4"
  }
 },
 "nbformat": 4,
 "nbformat_minor": 2
}
